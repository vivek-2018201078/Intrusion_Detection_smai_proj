{
 "cells": [
  {
   "cell_type": "code",
   "execution_count": 1,
   "metadata": {},
   "outputs": [],
   "source": [
    "import numpy as np\n",
    "import pandas as pd"
   ]
  },
  {
   "cell_type": "code",
   "execution_count": 2,
   "metadata": {},
   "outputs": [],
   "source": [
    "data = pd.read_csv('kddcup.data_10_percent_corrected')"
   ]
  },
  {
   "cell_type": "code",
   "execution_count": 3,
   "metadata": {},
   "outputs": [],
   "source": [
    "categorical_index = [1,2,3,6,11,20,21]\n",
    "unique_list = []\n",
    "\n",
    "unique1 = data.iloc[:,1].unique()\n",
    "unique_list.append(unique1)\n",
    "unique2 = data.iloc[:,2].unique()\n",
    "unique_list.append(unique2)\n",
    "unique3 = data.iloc[:,3].unique()\n",
    "unique_list.append(unique3)\n",
    "unique4 = data.iloc[:,6].unique()\n",
    "unique_list.append(unique4)\n",
    "unique5 = data.iloc[:,11].unique()\n",
    "unique_list.append(unique5)\n",
    "unique6 = data.iloc[:,20].unique()\n",
    "unique_list.append(unique6)\n",
    "unique7 = data.iloc[:,21].unique()\n",
    "unique_list.append(unique7)"
   ]
  },
  {
   "cell_type": "code",
   "execution_count": 4,
   "metadata": {},
   "outputs": [],
   "source": [
    "value = 0\n",
    "for i in range(len(unique1)):\n",
    "    data.iloc[:,1] = np.where(data.iloc[:,1]==unique1[i], value, data.iloc[:,1])\n",
    "    value = value + 1\n",
    "\n",
    "value = 0\n",
    "for i in range(len(unique2)):\n",
    "    data.iloc[:,2] = np.where(data.iloc[:,2]==unique2[i], value, data.iloc[:,2])\n",
    "    value = value + 1\n",
    "\n",
    "value = 0\n",
    "for i in range(len(unique3)):\n",
    "    data.iloc[:,3] = np.where(data.iloc[:,3]==unique3[i], value, data.iloc[:,3])\n",
    "    value = value + 1\n",
    "\n",
    "value = 0\n",
    "for i in range(len(unique4)):\n",
    "    data.iloc[:,6] = np.where(data.iloc[:,6]==unique4[i], value, data.iloc[:,6])\n",
    "    value = value + 1\n",
    "\n",
    "value = 0\n",
    "for i in range(len(unique5)):\n",
    "    data.iloc[:,11] = np.where(data.iloc[:,11]==unique5[i], value, data.iloc[:,11])\n",
    "    value = value + 1\n",
    "\n",
    "value = 0\n",
    "for i in range(len(unique6)):\n",
    "    data.iloc[:,20] = np.where(data.iloc[:,20]==unique6[i], value, data.iloc[:,20])\n",
    "    value = value + 1\n",
    "\n",
    "value = 0\n",
    "for i in range(len(unique7)):\n",
    "    data.iloc[:,21] = np.where(data.iloc[:,21]==unique7[i], value, data.iloc[:,21])\n",
    "    value = value + 1\n",
    "    "
   ]
  },
  {
   "cell_type": "code",
   "execution_count": 5,
   "metadata": {},
   "outputs": [
    {
     "data": {
      "text/plain": [
       "array(['normal.', 'buffer_overflow.', 'loadmodule.', 'perl.', 'neptune.',\n",
       "       'smurf.', 'guess_passwd.', 'pod.', 'teardrop.', 'portsweep.',\n",
       "       'ipsweep.', 'land.', 'ftp_write.', 'back.', 'imap.', 'satan.',\n",
       "       'phf.', 'nmap.', 'multihop.', 'warezmaster.', 'warezclient.',\n",
       "       'spy.', 'rootkit.'], dtype=object)"
      ]
     },
     "execution_count": 5,
     "metadata": {},
     "output_type": "execute_result"
    }
   ],
   "source": [
    "label_values = data.iloc[:,41].unique()\n",
    "label_values"
   ]
  },
  {
   "cell_type": "code",
   "execution_count": 6,
   "metadata": {},
   "outputs": [
    {
     "data": {
      "text/plain": [
       "array([0, 1], dtype=object)"
      ]
     },
     "execution_count": 6,
     "metadata": {},
     "output_type": "execute_result"
    }
   ],
   "source": [
    "data.iloc[:,41] = np.where(data.iloc[:,41] != 'normal.',1,data.iloc[:,41])\n",
    "data.iloc[:,41] = np.where(data.iloc[:,41] == 'normal.',0,data.iloc[:,41])\n",
    "\n",
    "data.iloc[:,41].unique()"
   ]
  },
  {
   "cell_type": "code",
   "execution_count": 7,
   "metadata": {},
   "outputs": [
    {
     "name": "stdout",
     "output_type": "stream",
     "text": [
      "(494020, 42)\n",
      "(494020,)\n",
      "(494020, 41)\n"
     ]
    }
   ],
   "source": [
    "print(data.shape)\n",
    "Y = data.iloc[:,41]\n",
    "Y = np.array(Y)\n",
    "#Y = Y.reshape(Y.shape[0],1)\n",
    "print(Y.shape)\n",
    "data.drop(data.columns[41], axis=1, inplace=True)\n",
    "print(data.shape)"
   ]
  },
  {
   "cell_type": "code",
   "execution_count": 8,
   "metadata": {},
   "outputs": [
    {
     "name": "stdout",
     "output_type": "stream",
     "text": [
      "X_train :  (395216, 41)\n",
      "X_test :  (98804, 41)\n",
      "Y_train :  (395216,)\n",
      "Y_test :  (98804,)\n"
     ]
    }
   ],
   "source": [
    "from sklearn.model_selection import train_test_split  \n",
    "X_train, X_test, Y_train, Y_test = train_test_split(data, Y, test_size = 0.20) \n",
    "\n",
    "X_train = np.array(X_train)\n",
    "X_test = np.array(X_test)\n",
    "Y_train = np.array(Y_train)\n",
    "#Y_train = Y_train.reshape(Y_train.shape[0],1)\n",
    "Y_test = np.array(Y_test)\n",
    "#Y_test = Y_test.reshape(Y_test.shape[0],1)\n",
    "\n",
    "print(\"X_train : \",X_train.shape)\n",
    "print(\"X_test : \",X_test.shape)\n",
    "print(\"Y_train : \",Y_train.shape)\n",
    "print(\"Y_test : \",Y_test.shape)"
   ]
  },
  {
   "cell_type": "code",
   "execution_count": 9,
   "metadata": {},
   "outputs": [
    {
     "name": "stdout",
     "output_type": "stream",
     "text": [
      "X_train Shape :  (395216, 41)\n",
      "Y_train Shape :  (395216,)\n",
      "X_train Shape :  (395216, 41)\n",
      "Y_test Shape :  (98804,)\n"
     ]
    }
   ],
   "source": [
    "# Preprocessing in order to do the computation faster doing scaling can use MinMaxScaler as well...\n",
    "# Check how SVM learns in terms of distance calculation\n",
    "\n",
    "\n",
    "from sklearn import svm\n",
    "from sklearn import preprocessing\n",
    "from sklearn.preprocessing import LabelEncoder\n",
    "\n",
    "\n",
    "X_train = X_train.astype(float)\n",
    "scaler = preprocessing.StandardScaler()\n",
    "scaler.fit(X_train)\n",
    "X_train = scaler.transform(X_train)\n",
    "print(\"X_train Shape : \", X_train.shape)\n",
    "\n",
    "Y_train = np.array(Y_train)\n",
    "encoder = LabelEncoder()\n",
    "encoder.fit(Y_train)\n",
    "Y_train = encoder.transform(Y_train)\n",
    "print(\"Y_train Shape : \",Y_train.shape)\n",
    "\n",
    "X_test = X_test.astype(float)\n",
    "scaler = preprocessing.StandardScaler()\n",
    "scaler.fit(X_test)\n",
    "X_test = scaler.transform(X_test)\n",
    "print(\"X_train Shape : \", X_train.shape)\n",
    "\n",
    "Y_test = encoder.transform(Y_test)\n",
    "print(\"Y_test Shape : \",Y_test.shape)\n"
   ]
  },
  {
   "cell_type": "code",
   "execution_count": 10,
   "metadata": {},
   "outputs": [
    {
     "name": "stdout",
     "output_type": "stream",
     "text": [
      "Training Time for Binary SVM :  1354.594537973404\n",
      "Done Predicting..\n",
      "(98804,)\n",
      "(98804,)\n",
      "<class 'numpy.ndarray'>\n",
      "<class 'numpy.ndarray'>\n",
      "Y_predicted Unique and its Frequency :\n",
      "[0 1] [19620 79184]\n",
      "Y_test Final unique and its Frequency : \n",
      "[0 1] [19552 79252]\n",
      "tp : 79084\n",
      "tn : 19452\n",
      "fp : 100\n",
      "fn : 168\n",
      "Accuracy :  0.9972875592081292\n",
      "Precision :  0.9987371186098202\n",
      "Recall :  0.9978801796800081\n",
      "f1_score :  0.9983084652477971\n"
     ]
    }
   ],
   "source": [
    "from sklearn import svm\n",
    "import time\n",
    "\n",
    "svm_model = svm.SVC(kernel='linear',C=1.0)\n",
    "\n",
    "start = time.time()\n",
    "svm_model.fit(X_train,Y_train)\n",
    "end = time.time()\n",
    "\n",
    "print(\"Training Time for Binary SVM : \", (end - start))\n",
    "\n",
    "# Predicting the Results\n",
    "\n",
    "predicted = svm_model.predict(X_test)\n",
    "\n",
    "print(\"Done Predicting..\")\n",
    "\n",
    "\n",
    "predicted = predicted.ravel()\n",
    "#print(len(predicted))\n",
    "Y_predicted = np.empty((len(predicted),))\n",
    "for i in range(len(predicted)):\n",
    "    if predicted[i] < 0.5:\n",
    "        Y_predicted[i] = 0\n",
    "        #Y_predicted[i] = (Y_predicted[i])\n",
    "    else:\n",
    "        Y_predicted[i] = 1\n",
    "        #Y_predicted[i] = math.floor(Y_predicted[i])\n",
    "\n",
    "Y_predicted = Y_predicted.astype(int)\n",
    "Y_test_final = np.array(Y_test)\n",
    "print(Y_predicted.shape)\n",
    "print(Y_test_final.shape)\n",
    "print(type(Y_predicted))\n",
    "print(type(Y_test_final))\n",
    "\n",
    "print(\"Y_predicted Unique and its Frequency :\")\n",
    "y_pre,y_pred_counts = np.unique(Y_predicted,return_counts=True)\n",
    "print(y_pre,y_pred_counts)\n",
    "\n",
    "print(\"Y_test Final unique and its Frequency : \")\n",
    "y_test_final,y_test_counts = np.unique(Y_test_final,return_counts=True)\n",
    "print(y_test_final,y_test_counts)\n",
    "\n",
    "\n",
    "tp,fp,tn,fn = 0,0,0,0\n",
    "for i in range(len(Y_test_final)):\n",
    "    if Y_test_final[i] == Y_predicted[i] and Y_test_final[i] == 1:\n",
    "        tp = tp + 1\n",
    "    elif Y_test_final[i] == Y_predicted[i] and Y_test_final[i] == 0:\n",
    "        tn = tn + 1\n",
    "    elif Y_test_final[i] != Y_predicted[i] and Y_test_final[i] == 0:\n",
    "        fp = fp + 1\n",
    "    else:\n",
    "        fn = fn + 1\n",
    "\n",
    "accuracy = (tp+tn)/(tp+tn+fp+fn)\n",
    "precision = tp/(tp+fp)\n",
    "recall = tp/(tp+fn)\n",
    "f1_score = (2*precision*recall)/(precision + recall)\n",
    "print(\"tp :\",tp)\n",
    "print(\"tn :\",tn)\n",
    "print(\"fp :\",fp)\n",
    "print(\"fn :\",fn)\n",
    "print(\"Accuracy : \",accuracy)\n",
    "print(\"Precision : \",precision)\n",
    "print(\"Recall : \",recall)\n",
    "print(\"f1_score : \",f1_score)\n",
    "\n"
   ]
  },
  {
   "cell_type": "code",
   "execution_count": 11,
   "metadata": {},
   "outputs": [
    {
     "name": "stderr",
     "output_type": "stream",
     "text": [
      "/home/rajat/anaconda3/lib/python3.6/site-packages/sklearn/svm/base.py:196: FutureWarning: The default value of gamma will change from 'auto' to 'scale' in version 0.22 to account better for unscaled features. Set gamma explicitly to 'auto' or 'scale' to avoid this warning.\n",
      "  \"avoid this warning.\", FutureWarning)\n"
     ]
    },
    {
     "name": "stdout",
     "output_type": "stream",
     "text": [
      "Done Modelling...\n",
      "Done Predicting..\n",
      "(98804,)\n",
      "(98804,)\n",
      "<class 'numpy.ndarray'>\n",
      "<class 'numpy.ndarray'>\n",
      "Y_predicted Unique and its Frequency :\n",
      "[0 1] [19583 79221]\n",
      "Y_test Final unique and its Frequency : \n",
      "[0 1] [19552 79252]\n",
      "tp : 79188\n",
      "tn : 19519\n",
      "fp : 33\n",
      "fn : 64\n",
      "Accuracy :  0.9990182583701065\n",
      "Precision :  0.9995834437838452\n",
      "Recall :  0.9991924494019079\n",
      "f1_score :  0.9993879083503183\n"
     ]
    }
   ],
   "source": [
    "## RBF Kernel\n",
    "\n",
    "svm_model = svm.SVC(kernel='rbf',C=1.0)\n",
    "svm_model.fit(X_train,Y_train)\n",
    "print(\"Done Modelling...\")\n",
    "\n",
    "# Predicting the Results\n",
    "\n",
    "predicted = svm_model.predict(X_test)\n",
    "\n",
    "print(\"Done Predicting..\")\n",
    "\n",
    "\n",
    "predicted = predicted.ravel()\n",
    "#print(len(predicted))\n",
    "Y_predicted = np.empty((len(predicted),))\n",
    "for i in range(len(predicted)):\n",
    "    if predicted[i] < 0.5:\n",
    "        Y_predicted[i] = 0\n",
    "        #Y_predicted[i] = (Y_predicted[i])\n",
    "    else:\n",
    "        Y_predicted[i] = 1\n",
    "        #Y_predicted[i] = math.floor(Y_predicted[i])\n",
    "\n",
    "Y_predicted = Y_predicted.astype(int)\n",
    "Y_test_final = np.array(Y_test)\n",
    "print(Y_predicted.shape)\n",
    "print(Y_test_final.shape)\n",
    "print(type(Y_predicted))\n",
    "print(type(Y_test_final))\n",
    "\n",
    "print(\"Y_predicted Unique and its Frequency :\")\n",
    "y_pre,y_pred_counts = np.unique(Y_predicted,return_counts=True)\n",
    "print(y_pre,y_pred_counts)\n",
    "\n",
    "print(\"Y_test Final unique and its Frequency : \")\n",
    "y_test_final,y_test_counts = np.unique(Y_test_final,return_counts=True)\n",
    "print(y_test_final,y_test_counts)\n",
    "\n",
    "\n",
    "tp,fp,tn,fn = 0,0,0,0\n",
    "for i in range(len(Y_test_final)):\n",
    "    if Y_test_final[i] == Y_predicted[i] and Y_test_final[i] == 1:\n",
    "        tp = tp + 1\n",
    "    elif Y_test_final[i] == Y_predicted[i] and Y_test_final[i] == 0:\n",
    "        tn = tn + 1\n",
    "    elif Y_test_final[i] != Y_predicted[i] and Y_test_final[i] == 0:\n",
    "        fp = fp + 1\n",
    "    else:\n",
    "        fn = fn + 1\n",
    "\n",
    "accuracy = (tp+tn)/(tp+tn+fp+fn)\n",
    "precision = tp/(tp+fp)\n",
    "recall = tp/(tp+fn)\n",
    "f1_score = (2*precision*recall)/(precision + recall)\n",
    "print(\"tp :\",tp)\n",
    "print(\"tn :\",tn)\n",
    "print(\"fp :\",fp)\n",
    "print(\"fn :\",fn)\n",
    "print(\"Accuracy : \",accuracy)\n",
    "print(\"Precision : \",precision)\n",
    "print(\"Recall : \",recall)\n",
    "print(\"f1_score : \",f1_score)\n"
   ]
  },
  {
   "cell_type": "code",
   "execution_count": null,
   "metadata": {},
   "outputs": [],
   "source": []
  }
 ],
 "metadata": {
  "kernelspec": {
   "display_name": "Python 3",
   "language": "python",
   "name": "python3"
  },
  "language_info": {
   "codemirror_mode": {
    "name": "ipython",
    "version": 3
   },
   "file_extension": ".py",
   "mimetype": "text/x-python",
   "name": "python",
   "nbconvert_exporter": "python",
   "pygments_lexer": "ipython3",
   "version": "3.6.8"
  }
 },
 "nbformat": 4,
 "nbformat_minor": 2
}
