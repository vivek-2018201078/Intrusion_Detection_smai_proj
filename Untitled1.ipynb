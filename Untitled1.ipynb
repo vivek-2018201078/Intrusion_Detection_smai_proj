{
 "cells": [
  {
   "cell_type": "code",
   "execution_count": 34,
   "metadata": {},
   "outputs": [],
   "source": [
    "import pandas as pd\n",
    "import numpy as np\n",
    "import math\n",
    "from sklearn.metrics.pairwise import euclidean_distances"
   ]
  },
  {
   "cell_type": "code",
   "execution_count": 18,
   "metadata": {},
   "outputs": [],
   "source": [
    "b_1 = pd.read_csv(\"./block_1.csv\")\n",
    "del b_1[\"Unnamed: 0\"]\n",
    "b_2 = pd.read_csv(\"./block_2.csv\")\n",
    "del b_2[\"Unnamed: 0\"]\n",
    "b_3 = pd.read_csv(\"./block_3.csv\")\n",
    "del b_3[\"Unnamed: 0\"]\n",
    "b_10 = pd.read_csv(\"./block_10.csv\")\n",
    "del b_10[\"Unnamed: 0\"]"
   ]
  },
  {
   "cell_type": "code",
   "execution_count": 19,
   "metadata": {},
   "outputs": [],
   "source": [
    "blocks = {}\n",
    "blocks[1] = b_1\n",
    "blocks[2] = b_2\n",
    "blocks[3] = b_3\n",
    "blocks[10] = b_10"
   ]
  },
  {
   "cell_type": "code",
   "execution_count": 20,
   "metadata": {},
   "outputs": [
    {
     "name": "stdout",
     "output_type": "stream",
     "text": [
      "Before selection 490000\n",
      "Normal :  379668 \n",
      "Anamoly :  3835 \n",
      "Total :  383503\n",
      "After selection : 379668 \n",
      "\n",
      "\n",
      "Before selection 490000\n",
      "Normal :  182718 \n",
      "Anamoly :  1845 \n",
      "Total :  184563\n",
      "After selection : 182718 \n",
      "\n",
      "\n",
      "Before selection 490000\n",
      "Normal :  149880 \n",
      "Anamoly :  1513 \n",
      "Total :  151393\n",
      "After selection : 149880 \n",
      "\n",
      "\n",
      "Before selection 488430\n",
      "Normal :  188609 \n",
      "Anamoly :  1905 \n",
      "Total :  190514\n",
      "After selection : 188609 \n",
      "\n",
      "\n"
     ]
    }
   ],
   "source": [
    "\n",
    "for i in list(blocks.keys()) :\n",
    "    print(\"Before selection\", len(blocks[i]))\n",
    "    normal = blocks[i][ blocks[i][\"label\"] == \"normal.\" ]\n",
    "    anamoly = blocks[i][blocks[i][\"label\"] != \"normal.\" ]\n",
    "    total_size = math.floor(len(normal) *(100/99) )\n",
    "    anamoly_req = total_size - len(normal)\n",
    "    print('Normal : ',len(normal),\"\\nAnamoly : \", anamoly_req, \"\\nTotal : \", total_size )\n",
    "    anamoly_slected = anamoly.sample(anamoly_req)\n",
    "    normal.append(anamoly_slected)\n",
    "    blocks[i]=normal\n",
    "    print('After selection :', len(blocks[i]),\"\\n\\n\")\n",
    "    "
   ]
  },
  {
   "cell_type": "code",
   "execution_count": 28,
   "metadata": {},
   "outputs": [
    {
     "name": "stdout",
     "output_type": "stream",
     "text": [
      "['duration', 'src_bytes', 'dst_bytes', 'wrong_fragment', 'urgent', 'hot', 'num_failed_logins', 'lnum_compromised', 'lroot_shell', 'lsu_attempted', 'lnum_root', 'lnum_file_creations', 'lnum_shells', 'lnum_access_files', 'lnum_outbound_cmds', 'count', 'srv_count', 'serror_rate', 'srv_serror_rate', 'rerror_rate', 'srv_rerror_rate', 'same_srv_rate', 'diff_srv_rate', 'srv_diff_host_rate', 'dst_host_count', 'dst_host_srv_count', 'dst_host_same_srv_rate', 'dst_host_diff_srv_rate', 'dst_host_same_src_port_rate', 'dst_host_srv_diff_host_rate', 'dst_host_serror_rate', 'dst_host_srv_serror_rate', 'dst_host_rerror_rate', 'dst_host_srv_rerror_rate'] 34\n"
     ]
    }
   ],
   "source": [
    "categorical = [ \"protocol_type\", \"service\", \"flag\", \"land\", \"is_host_login\", \"is_guest_login\",\"logged_in\" ]\n",
    "continous = [  col for col in list(blocks[1].columns) if col not in categorical ]\n",
    "continous.remove(\"label\")\n",
    "print(continous, len(continous))"
   ]
  },
  {
   "cell_type": "code",
   "execution_count": null,
   "metadata": {},
   "outputs": [],
   "source": [
    "W = 40\n",
    "N = 15\n",
    "result = {}\n",
    "for train in list(blocks.keys()) :\n",
    "    result[train] = []\n",
    "    clusters = {}\n",
    "    centers = []\n",
    "    for i in range(len(blocks[train])) :\n",
    "        if len(centers) == 0 :\n",
    "            centers.append(blocks[train].iloc[i])\n",
    "            ind = len(centers) - 1\n",
    "            cluster[ind] = 1\n",
    "        else :\n",
    "            dist = []\n",
    "            for cntr in centers :\n",
    "                d = euclidean_distances( [cntr[continous]], [blocks[train].iloc[i][continous]] )\n",
    "                for cat in categorical :\n",
    "                    if cntr[cat] != blocks[train].iloc[i][cat] :\n",
    "                        d += 1\n",
    "                dist.append(d)\n",
    "            ind = dist.index(min(dist))\n",
    "            if min(dist) > W :\n",
    "                centers.append(blocks[train].iloc[i])\n",
    "                ind = len(centers) - 1\n",
    "                clusters[ind] = 1\n",
    "            else :\n",
    "                center_assinged = centers[ind]\n",
    "                clusters[ind] += 1\n",
    "                \n",
    "    total_clusters = len(centers)\n",
    "    normal_cluster = math.floor( total_clusters * ( N/100 ) )\n",
    "    vals = list(clusters.values())\n",
    "    c_keys = list(clusters.keys())\n",
    "    normal_clusters = []\n",
    "    for i in range(normal_cluster) :\n",
    "        ind = vals.index(max(vals))\n",
    "        normal_clusters.append(c_keys[ind])\n",
    "        vals[ind] = 0\n",
    "    n_a = 0\n",
    "    n_a = 0\n",
    "    a_n = 0\n",
    "    a_n = 0\n",
    "    for test in list(blocks.keys()) :            \n",
    "        for i in range(len(blocks[test])) :\n",
    "            dist = []\n",
    "            for cntr in centers :\n",
    "                d = euclidean_distances( [cntr[continous]], [blocks[test].iloc[i][continous]] )\n",
    "                for cat in categorical :\n",
    "                    if cntr[cat] != blocks[test].iloc[i][cat] :\n",
    "                        d += 1\n",
    "                dist.append(d)\n",
    "            ind = dist.index(min(dist))\n",
    "            center_assinged = centers[ind]\n",
    "            if center_assinged in normal_clusters :\n",
    "                if blocks[test].iloc[i][\"label\"] == \"normal.\" :\n",
    "                    n_n += 1\n",
    "                else :\n",
    "                    a_n += 1\n",
    "            else :\n",
    "                if blocks[test].iloc[i][\"label\"] == \"normal.\" :\n",
    "                    n_a += 1\n",
    "                else :\n",
    "                    a_a += 1\n",
    "                    \n",
    "        one_block_res = [ n_n, n_a, a_n, a_a ]\n",
    "        result[train].append(one_block_res)\n",
    "                "
   ]
  },
  {
   "cell_type": "code",
   "execution_count": null,
   "metadata": {},
   "outputs": [],
   "source": []
  }
 ],
 "metadata": {
  "kernelspec": {
   "display_name": "Python 3",
   "language": "python",
   "name": "python3"
  },
  "language_info": {
   "codemirror_mode": {
    "name": "ipython",
    "version": 3
   },
   "file_extension": ".py",
   "mimetype": "text/x-python",
   "name": "python",
   "nbconvert_exporter": "python",
   "pygments_lexer": "ipython3",
   "version": "3.6.7"
  }
 },
 "nbformat": 4,
 "nbformat_minor": 2
}
